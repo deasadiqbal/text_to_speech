{
 "cells": [
  {
   "cell_type": "code",
   "execution_count": null,
   "metadata": {},
   "outputs": [],
   "source": [
    "import cv2\n",
    "import numpy as np\n",
    "import tensorflow as tf\n",
    "from gtts import gTTS\n",
    "import os\n",
    "\n",
    "# Load the saved model\n",
    "model = tf.keras.models.load_model('ASL_classification.h5')\n",
    "\n",
    "def preprocess_image(img):\n",
    "    img = cv2.resize(img, (64, 64)) \n",
    "    img = np.array(img) / 255.0  \n",
    "    img = np.expand_dims(img, axis=0)  \n",
    "    return img\n",
    "\n",
    "def predict_text(img, class_labels):\n",
    "    img = preprocess_image(img)\n",
    "    prediction = model.predict(img)\n",
    "    predicted_class_index = np.argmax(prediction)\n",
    "    predicted_text = class_labels[predicted_class_index]\n",
    "    return predicted_text\n",
    "\n",
    "class_labels = ['A', 'B', 'C', 'D', 'E', 'F', 'G', 'H', 'I', 'J', 'K', 'L', 'M', 'N', 'O', 'P', 'Q', 'R', 'S', 'T', 'U', 'V', 'W', 'X', 'Y', 'Z', 'del', 'nothing', 'space']\n",
    "\n",
    "cap = cv2.VideoCapture(0)\n",
    "\n",
    "while True:\n",
    "    ret, frame = cap.read() \n",
    "    cv2.imshow('ASL Prediction', frame)  \n",
    "\n",
    "    key = cv2.waitKey(1)\n",
    "    if key == ord('q'): \n",
    "        break\n",
    "    elif key == ord('p'): \n",
    "        predicted_text = predict_text(frame, class_labels)\n",
    "        print(\"Predicted Text:\", predicted_text)\n",
    "        \n",
    "        text_to_speech = gTTS(text=predicted_text, lang='en')\n",
    "        text_to_speech.save('convertedVoice.mp3')\n",
    "        os.system('start convertedVoice.mp3')\n",
    "\n",
    "#\n",
    "cap.release()\n",
    "cv2.destroyAllWindows()\n"
   ]
  },
  {
   "cell_type": "code",
   "execution_count": null,
   "metadata": {},
   "outputs": [],
   "source": []
  }
 ],
 "metadata": {
  "kernelspec": {
   "display_name": "Python 3",
   "language": "python",
   "name": "python3"
  },
  "language_info": {
   "codemirror_mode": {
    "name": "ipython",
    "version": 3
   },
   "file_extension": ".py",
   "mimetype": "text/x-python",
   "name": "python",
   "nbconvert_exporter": "python",
   "pygments_lexer": "ipython3",
   "version": "3.12.3"
  }
 },
 "nbformat": 4,
 "nbformat_minor": 2
}
